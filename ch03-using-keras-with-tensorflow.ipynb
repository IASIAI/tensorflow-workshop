{
 "cells": [
  {
   "cell_type": "markdown",
   "metadata": {
    "ein.tags": "worksheet-0",
    "slideshow": {
     "slide_type": "-"
    }
   },
   "source": [
    "# Using Keras on top of TensorFlow for fast prototyping"
   ]
  },
  {
   "cell_type": "markdown",
   "metadata": {
    "ein.tags": "worksheet-0",
    "slideshow": {
     "slide_type": "-"
    }
   },
   "source": [
    "**Objective**: Build a deep learning model that can learn the alphabet using Keras and compare with TensorFlow implementation\n",
    "\n",
    "**Agenda**\n",
    "1. Recap of the previous chapter\n",
    "2. What is Keras and why should I care?\n",
    "3. Implementing the same model with Keras\n",
    "   - Building the computational graph\n",
    "   - Plugging-in the TensorBoard visualization\n",
    "   - Training and evaluating the model\n",
    "4. Conclusions on the difference between TensorFlow and Keras"
   ]
  },
  {
   "cell_type": "markdown",
   "metadata": {
    "ein.tags": "worksheet-0",
    "slideshow": {
     "slide_type": "-"
    }
   },
   "source": [
    "## Recap of the previous chapter"
   ]
  },
  {
   "cell_type": "markdown",
   "metadata": {
    "ein.tags": "worksheet-0",
    "slideshow": {
     "slide_type": "-"
    }
   },
   "source": [
    "In [Chapter 2](ch02-working-with-tensorflow.ipynb) of the workshop we built a deep learning model capable of predicting the next letter of the alphabet based on an input sequence of consecutive letters.\n",
    "\n",
    "We did so by transforming the objective into a classification problem where each letter of the alphabet becomes an output class and the model needed to learn to predict what is the probability of each letter being the next letter in the alphabet given the input sequence.\n",
    "\n",
    "Afterwards we created a model like in the image below using LSTM cells and a fully connected layer.\n",
    "\n",
    "![Model architecture](./img/model.png)\n",
    "\n",
    "In this chapter we will tackle the same task but this time we will be using a powerfull library which enables us to quickly build and validate models - **Keras**.\n",
    "\n",
    "But first, a few words about Keras."
   ]
  },
  {
   "cell_type": "markdown",
   "metadata": {
    "ein.tags": "worksheet-0",
    "slideshow": {
     "slide_type": "-"
    }
   },
   "source": [
    "## What is Keras and why should I care?"
   ]
  },
  {
   "cell_type": "markdown",
   "metadata": {
    "ein.tags": "worksheet-0",
    "slideshow": {
     "slide_type": "-"
    }
   },
   "source": [
    "### What is Keras?"
   ]
  },
  {
   "cell_type": "markdown",
   "metadata": {
    "ein.tags": "worksheet-0",
    "slideshow": {
     "slide_type": "-"
    }
   },
   "source": [
    "As the [documentation](https://keras.io/) specifies,\n",
    "\n",
    "> Keras is a high-level neural networks API, written in Python and capable of running on top of TensorFlow, CNTK, or Theano. It was developed with a **focus on enabling fast experimentation**. Being able to go from idea to result with the least possible delay is key to doing good research."
   ]
  },
  {
   "cell_type": "markdown",
   "metadata": {
    "ein.tags": "worksheet-0",
    "slideshow": {
     "slide_type": "-"
    }
   },
   "source": [
    "### Installation and configuration"
   ]
  },
  {
   "cell_type": "markdown",
   "metadata": {
    "ein.tags": "worksheet-0",
    "slideshow": {
     "slide_type": "-"
    }
   },
   "source": [
    "To install Keras in your Python environment just run\n",
    "```\n",
    "pip install keras\n",
    "```\n",
    "\n",
    "After installation you can [configure Keras to run on a specific backend](https://keras.io/backend/#switching-from-one-backend-to-another) by changing (or creating) the configuration file located at\n",
    "- `$HOME/.keras/keras.json` on **Linux** or\n",
    "- `%USERPROFILE%/.keras/keras.json` on **Windows**.\n",
    "\n",
    "The default configuration file looks like this:\n",
    "```\n",
    "{\n",
    "\t\"image_data_format\": \"channels_last\",\n",
    "\t\"epsilon\": 1e-07,\n",
    "\t\"floatx\": \"float32\",\n",
    "\t\"backend\": \"tensorflow\"\n",
    "}\n",
    "```\n",
    "\n",
    "As TensorFlow is the default backend for Keras there's nothing for us to configure."
   ]
  },
  {
   "cell_type": "markdown",
   "metadata": {
    "ein.tags": "worksheet-0",
    "slideshow": {
     "slide_type": "-"
    }
   },
   "source": [
    "### The two flavors of Keras"
   ]
  },
  {
   "cell_type": "markdown",
   "metadata": {
    "ein.tags": "worksheet-0",
    "slideshow": {
     "slide_type": "-"
    }
   },
   "source": [
    "Keras comes in two flavors:\n",
    "- The `Sequential` model which is **a linear stack of layers**\n",
    "- The `Functional API` which allows building **more complicated models** such as models with multiple inputs, non-linear graphs etc.\n",
    "\n",
    "In our exercise we will be using `Sequential` model. The answer to why should I care? will hopefully be self evident after the implementation. Otherwise you'll find it within the conclusions."
   ]
  },
  {
   "cell_type": "markdown",
   "metadata": {
    "ein.tags": "worksheet-0",
    "slideshow": {
     "slide_type": "-"
    }
   },
   "source": [
    "## Conclusions on the difference between TensorFlow and Keras"
   ]
  },
  {
   "cell_type": "markdown",
   "metadata": {
    "ein.tags": "worksheet-0",
    "slideshow": {
     "slide_type": "-"
    }
   },
   "source": [
    "- Keras API is shorter and more expressive thus allowing fast prototyping and shorter development time for building and trying a model."
   ]
  },
  {
   "cell_type": "markdown",
   "metadata": {
    "ein.tags": "worksheet-0",
    "slideshow": {
     "slide_type": "-"
    }
   },
   "source": [
    "## References"
   ]
  },
  {
   "cell_type": "markdown",
   "metadata": {
    "ein.tags": "worksheet-0",
    "slideshow": {
     "slide_type": "-"
    }
   },
   "source": [
    "* [Keras documentation](https://keras.io)"
   ]
  }
 ],
 "metadata": {
  "kernelspec": {
   "display_name": "Python 3",
   "name": "python3"
  },
  "language_info": {
   "codemirror_mode": {
    "name": "ipython",
    "version": 3
   },
   "file_extension": ".py",
   "mimetype": "text/x-python",
   "name": "python",
   "nbconvert_exporter": "python",
   "pygments_lexer": "ipython3",
   "version": "3.6.5"
  },
  "name": "ch03-using-keras-with-tensorflow.ipynb"
 },
 "nbformat": 4,
 "nbformat_minor": 2
}
