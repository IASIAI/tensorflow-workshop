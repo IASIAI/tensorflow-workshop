{
 "cells": [
  {
   "cell_type": "markdown",
   "metadata": {
    "ein.tags": "worksheet-0",
    "slideshow": {
     "slide_type": "-"
    }
   },
   "source": [
    "# Using Keras on top of TensorFlow for fast prototyping"
   ]
  },
  {
   "cell_type": "markdown",
   "metadata": {
    "ein.tags": "worksheet-0",
    "slideshow": {
     "slide_type": "-"
    }
   },
   "source": [
    "**Objective**: Build a deep learning model that can learn the alphabet using Keras and compare with TensorFlow implementation\n",
    "\n",
    "**Agenda**\n",
    "1. Recap of the previous chapter\n",
    "2. What is Keras and why should I care?\n",
    "3. Implementing the same model with Keras\n",
    "   - Building the computational graph\n",
    "   - Plugging-in the TensorBoard visualization\n",
    "   - Training and evaluating the model\n",
    "4. Conclusions on the difference between TensorFlow and Keras"
   ]
  },
  {
   "cell_type": "markdown",
   "metadata": {
    "ein.tags": "worksheet-0",
    "slideshow": {
     "slide_type": "-"
    }
   },
   "source": [
    "## References"
   ]
  },
  {
   "cell_type": "markdown",
   "metadata": {
    "ein.tags": "worksheet-0",
    "slideshow": {
     "slide_type": "-"
    }
   },
   "source": [
    "* [Keras documentation](https://keras.io)"
   ]
  }
 ],
 "metadata": {
  "kernelspec": {
   "display_name": "Python 3",
   "name": "python3"
  },
  "name": "ch03-using-keras-with-tensorflow.ipynb"
 },
 "nbformat": 4,
 "nbformat_minor": 2
}
