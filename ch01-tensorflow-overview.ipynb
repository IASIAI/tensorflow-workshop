{
 "cells": [
  {
   "cell_type": "markdown",
   "metadata": {
    "ein.tags": "worksheet-0",
    "slideshow": {
     "slide_type": "-"
    }
   },
   "source": [
    "## Getting started with Tensorflow ##\n",
    "\n",
    "Welcome to the first Tensorflow workshop within Iasi AI community!\n"
   ]
  }
 ],
 "metadata": {
  "name": "ch01-tensorflow-overview.ipynb"
 },
 "nbformat": 4,
 "nbformat_minor": 2
}
