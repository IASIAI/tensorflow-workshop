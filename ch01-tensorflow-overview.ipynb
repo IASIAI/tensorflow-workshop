{
 "cells": [
  {
   "attachments": {},
   "cell_type": "markdown",
   "metadata": {},
   "source": [
    "![title](img/neural_network.png)\n",
    "\n",
    "### Initial setup\n",
    "##### Neural Network Inference\n",
    "Propagate input signal (i.e. images with cats) through layers of neurons to output (usually) some class.\n",
    "Each neuron computes a weighted sum of the neurons in the previous layer and, if the sum passes a threshold, it is activated.\n",
    "\n",
    "https://playground.tensorflow.org/\n",
    "\n",
    "##### Neural Network Training:\n",
    "    1. Compute \"error\" function (i.e. the difference between what is predicted and the truth).\n",
    "    2. Compute the derivative of the error function with respect to the weights of each neuron (how each parameter contributed to the error).\n",
    "    3. Make a small update on the weights so as to minimize the error function.\n",
    "\n",
    "\n",
    "\n",
    "##### Tensorflow helps with:\n",
    "    1. Multipling matrices during inference\n",
    "    2. Taking derivatives during trainig\n",
    "   \n",
    "##### Steps:\n",
    "\n",
    "    1. Create a data-flow graph.\n",
    "    2. Create a session.\n",
    "    3. Access the graph through the session."
   ]
  },
  {
   "cell_type": "code",
   "execution_count": 2,
   "metadata": {},
   "outputs": [],
   "source": [
    "#The usual imports\n",
    "import tensorflow as tf\n",
    "import matplotlib.pyplot as plt\n",
    "import numpy as np"
   ]
  },
  {
   "cell_type": "markdown",
   "metadata": {},
   "source": [
    "### Prepare data"
   ]
  },
  {
   "cell_type": "code",
   "execution_count": 3,
   "metadata": {},
   "outputs": [
    {
     "name": "stdout",
     "output_type": "stream",
     "text": [
      "(60000, 28, 28) (60000, 10) (10000, 28, 28) (10000, 10)\n"
     ]
    },
    {
     "data": {
      "image/png": "[encoded data removed]",
      "text/plain": [
       "<Figure size 432x288 with 1 Axes>"
      ]
     },
     "metadata": {},
     "output_type": "display_data"
    }
   ],
   "source": [
    "def transform_labels(numerical_labels):\n",
    "    #use one hot encoding of labels instead of numeric\n",
    "    #e.g. 2 will become [0,0,1,0,0,0,...]\n",
    "    categorical = np.zeros((len(numerical_labels),10))\n",
    "    for idx,label in enumerate(numerical_labels):\n",
    "        categorical[idx][label] = 1\n",
    "    return categorical\n",
    "\n",
    "\n",
    "#Load mnist (the \"hello world\" of machine learning)\n",
    "(train_img,train_label),(test_img,test_label) = tf.keras.datasets.mnist.load_data()\n",
    "plt.imshow(train_img[0],cmap='gray')\n",
    "\n",
    "train_label = transform_labels(train_label)\n",
    "test_label  = transform_labels(test_label)\n",
    "print (train_img.shape,train_label.shape,test_img.shape,test_label.shape)"
   ]
  },
  {
   "cell_type": "markdown",
   "metadata": {},
   "source": [
    "### Define the dataflow "
   ]
  },
  {
   "cell_type": "code",
   "execution_count": 4,
   "metadata": {
    "scrolled": true
   },
   "outputs": [],
   "source": [
    "\n",
    "#Inputs in the dataflow graph\n",
    "image_input = tf.placeholder(tf.float32,shape=(None,28,28))\n",
    "label_input = tf.placeholder(tf.int16,shape=(None,10))\n",
    "\n",
    "#Define parameters; initially they are random; they will be learned\n",
    "weights = tf.get_variable(\"weights\",\n",
    "                          shape=[28*28,10],\n",
    "                          dtype=tf.float32,\n",
    "                          initializer=tf.random_normal_initializer(),\n",
    "                         )\n",
    "\n",
    "bias    = tf.get_variable(\"bias\",\n",
    "                          shape=[1],\n",
    "                          dtype=tf.float32,\n",
    "                          initializer=tf.constant_initializer(0))\n",
    "\n",
    "#Transform the input matrix from a 2d array into a 1d array\n",
    "#Multiply the reshaped image with the weights and add the bias\n",
    "\n",
    "predicted_logits = tf.matmul(tf.reshape(image_input,shape=(-1,28*28)),weights)+bias\n",
    "\n",
    "#Compute the error\n",
    "#Transform the output into probabilities and compare the obtained distribution with the desired distribution\n",
    "#https://deepnotes.io/softmax-crossentropy for the curious\n",
    "\n",
    "error = tf.reduce_mean(tf.nn.softmax_cross_entropy_with_logits_v2(logits=predicted_logits,labels=label_input))\n",
    "\n",
    "#Define the optimizer; this is the thing that actually minimizez the error;\n",
    "#It looks at all the variables that contribute to the error and adjusts them \n",
    "optimizer = tf.train.GradientDescentOptimizer(learning_rate=1e-3).minimize(error)\n",
    "\n",
    "#Record the error for tensorboard\n",
    "#During training we run \"tensorboard --logdir=/path/to/logs\"\"\n",
    "\n",
    "error_summary = tf.summary.scalar('average_error', error) \n",
    "#We need to ru this in order to initialize the variables\n",
    "init = tf.global_variables_initializer()\n",
    "\n",
    "#At this point the blueprint is created. "
   ]
  },
  {
   "cell_type": "markdown",
   "metadata": {},
   "source": [
    "### Perform the training"
   ]
  },
  {
   "cell_type": "code",
   "execution_count": 5,
   "metadata": {},
   "outputs": [
    {
     "name": "stdout",
     "output_type": "stream",
     "text": [
      "Initial number of errors: 9058\n",
      "Number  of errors after epoch 0 is: 1349\n",
      "Number  of errors after epoch 1 is: 1213\n",
      "Number  of errors after epoch 2 is: 1178\n",
      "Number  of errors after epoch 3 is: 1217\n",
      "Number  of errors after epoch 4 is: 1217\n",
      "Number  of errors after epoch 5 is: 1116\n",
      "Number  of errors after epoch 6 is: 1155\n",
      "Number  of errors after epoch 7 is: 1177\n",
      "Number  of errors after epoch 8 is: 1198\n",
      "Number  of errors after epoch 9 is: 1147\n"
     ]
    }
   ],
   "source": [
    "#How many passes through the data should we do\n",
    "num_epochs = 10\n",
    "#How many images at once\n",
    "batch_size  = 32\n",
    "\n",
    "with tf.Session() as sess:\n",
    "    #Initialize the weights and bias\n",
    "    sess.run(init)\n",
    "    #Define the model saver. We will subsequently load the model in order to use it.\n",
    "    saver = tf.train.Saver()\n",
    "    \n",
    "    #Define the actual tensorboard logger\n",
    "    summary_writter = tf.summary.FileWriter('./mnist_training_summary',sess.graph)\n",
    "\n",
    "    #At each passing you want to feed the data in a different order\n",
    "    read_order = np.arange(len(train_img))\n",
    "    batch_idx = 0\n",
    "    \n",
    "    #Let's see what we get when we just use the random weights\n",
    "    logits,test_loss = sess.run([predicted_logits,error],feed_dict={\n",
    "                image_input:test_img,\n",
    "                label_input:test_label\n",
    "            })\n",
    "    print(\"Initial number of errors: {}\".format(np.count_nonzero(np.argmax(logits,axis=1)-np.argmax(test_label,axis=1))))\n",
    "    \n",
    "    for epoch in range(num_epochs):\n",
    "        \n",
    "        #Feed images, get predictions, apply gradients - all just by running \"optimizer\" operation\n",
    "        while batch_idx+batch_size<len(train_img): \n",
    "            _,summary = sess.run([optimizer,error_summary],feed_dict={\n",
    "                image_input:train_img[read_order[batch_idx:batch_idx+batch_size]],\n",
    "                label_input:train_label[read_order[batch_idx:batch_idx+batch_size]]\n",
    "            })\n",
    "            batch_idx+=batch_size\n",
    "            \n",
    "            #Log the error at the current training step in order to be visualised in tensorboard\n",
    "            training_step = len(train_img)/batch_size*epoch+batch_idx/batch_size\n",
    "            summary_writter.add_summary(summary,training_step) \n",
    "        \n",
    "        #Test the model after each epoch\n",
    "        logits,test_loss = sess.run([predicted_logits,error],feed_dict={\n",
    "                image_input:test_img,\n",
    "                label_input:test_label\n",
    "            })\n",
    "        \n",
    "        print(\"Number  of errors after epoch {} is: {}\".format(epoch,np.count_nonzero(np.argmax(logits,axis=1)-np.argmax(test_label,axis=1))))\n",
    "        \n",
    "        #Save the model after each epoch\n",
    "        saver.save(sess, './mnist_model',global_step=epoch)\n",
    "        \n",
    "        #Prepare for the next epoch; need to shuffle the data and reset the index\n",
    "        np.random.shuffle(read_order)\n",
    "        batch_idx=0\n",
    "        #For cooler ways to handle the data google \"tf.data\" "
   ]
  },
  {
   "cell_type": "markdown",
   "metadata": {},
   "source": [
    "### Restore the saved model"
   ]
  },
  {
   "cell_type": "code",
   "execution_count": 6,
   "metadata": {},
   "outputs": [
    {
     "name": "stdout",
     "output_type": "stream",
     "text": [
      "INFO:tensorflow:Restoring parameters from ./mnist_model-9\n",
      "Final number of errors is: 1147\n"
     ]
    }
   ],
   "source": [
    "with tf.Session() as sess:\n",
    "    saver = tf.train.import_meta_graph(\"./mnist_model-9.meta\")\n",
    "    saver.restore(sess,tf.train.latest_checkpoint('./'))\n",
    "    logits,test_loss = sess.run([predicted_logits,error],feed_dict={\n",
    "                image_input:test_img,\n",
    "                label_input:test_label\n",
    "            })\n",
    "        \n",
    "    print(\"Final number of errors is: {}\".format(np.count_nonzero(np.argmax(logits,axis=1)-np.argmax(test_label,axis=1))))\n",
    "        "
   ]
  },
  {
   "cell_type": "markdown",
   "metadata": {},
   "source": [
    "# Exercises\n",
    "\n",
    "##### Modify the above code to:\n",
    "1. Actually create a neural network: add 1 hidden layer with 512 neurons. Use sigmoid activation.\n",
    "2. Change the activation function to relu\n",
    "3. Add l2 regularization.\n",
    "4. Trace each component of the error and the test accuracy (in %) in tensorboard. \n",
    "5. Add dropout\n",
    "6. Go deeper with the layers\n",
    "7. And deeper\n",
    "8. ... you get the idea"
   ]
  },
  {
   "cell_type": "code",
   "execution_count": null,
   "metadata": {},
   "outputs": [],
   "source": []
  }
 ],
 "metadata": {
  "kernelspec": {
   "display_name": "Python [conda env:pytorch]",
   "language": "python",
   "name": "conda-env-pytorch-py"
  },
  "language_info": {
   "codemirror_mode": {
    "name": "ipython",
    "version": 3
   },
   "file_extension": ".py",
   "mimetype": "text/x-python",
   "name": "python",
   "nbconvert_exporter": "python",
   "pygments_lexer": "ipython3",
   "version": "3.6.6"
  }
 },
 "nbformat": 4,
 "nbformat_minor": 2
}
