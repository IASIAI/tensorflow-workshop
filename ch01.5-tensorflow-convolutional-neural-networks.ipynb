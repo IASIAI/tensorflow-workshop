{
 "cells": [
  {
   "cell_type": "markdown",
   "metadata": {},
   "source": [
    "### Problem\n",
    "\n",
    "#### MLPs dont take into account the spatial information. \n",
    "\n",
    "### Convolutional neural networks to the rescue!\n",
    "\n",
    "![title](img/cnn.png)\n",
    "\n",
    "\n",
    "##### Some important things to know:\n",
    "1. Look at patches of the image. Analyze each patch individually via kernels.\n",
    "2. Each kernel identifies some \"concept\". (or so they say https://arxiv.org/pdf/1311.2901.pdf )\n",
    "3. The \"deeper\" the layer , the mode \"abstract\" detected concepts: e.g. lines -> shapes -> cat ears -> cat\n",
    "4. Get translational invariance via max pooling.\n",
    "![title](img/convolution.png)\n",
    "\n",
    "\n",
    "##### The convolution has 3 important paramaters:\n",
    "    1. Filter size (how large are the patches)\n",
    "    2. Stride (how many \n",
    "    3. Padding\n",
    "\n",
    "\n",
    "#### Steps\n",
    "    1. Replace the dense layers (the tf.matmul thing) with convolutional layers\n",
    "    2. Add pooling\n",
    "    3. Add dense layers at the end.\n",
    "   \n",
    "#### Training stays the same!\n"
   ]
  },
  {
   "cell_type": "code",
   "execution_count": 1,
   "metadata": {},
   "outputs": [],
   "source": [
    "#The usual imports\n",
    "import tensorflow as tf\n",
    "import matplotlib.pyplot as plt\n",
    "import numpy as np"
   ]
  },
  {
   "cell_type": "markdown",
   "metadata": {},
   "source": [
    "### Prepare data"
   ]
  },
  {
   "cell_type": "code",
   "execution_count": 2,
   "metadata": {},
   "outputs": [
    {
     "name": "stdout",
     "output_type": "stream",
     "text": [
      "(50000, 32, 32, 3) (50000, 10) (10000, 32, 32, 3) (10000, 10)\n"
     ]
    },
    {
     "data": {
      "image/png": "[encoded data removed]",
      "text/plain": [
       "<Figure size 432x288 with 1 Axes>"
      ]
     },
     "metadata": {},
     "output_type": "display_data"
    }
   ],
   "source": [
    "def transform_labels(numerical_labels):\n",
    "    #use one hot encoding of labels instead of numeric\n",
    "    #e.g. 2 will become [0,0,1,0,0,0,...]\n",
    "    categorical = np.zeros((len(numerical_labels),10))\n",
    "    for idx,label in enumerate(numerical_labels):\n",
    "        categorical[idx][label] = 1\n",
    "    return categorical\n",
    "\n",
    "\n",
    "#Load mnist (the \"hello world\" of machine learning)\n",
    "(train_img,train_label),(test_img,test_label) = tf.keras.datasets.cifar10.load_data()\n",
    "plt.imshow(train_img[0],cmap='gray')\n",
    "\n",
    "train_label = transform_labels(train_label)\n",
    "test_label  = transform_labels(test_label)\n",
    "print (train_img.shape,train_label.shape,test_img.shape,test_label.shape)"
   ]
  },
  {
   "cell_type": "markdown",
   "metadata": {},
   "source": [
    "### Define the dataflow "
   ]
  },
  {
   "cell_type": "code",
   "execution_count": 8,
   "metadata": {
    "scrolled": true
   },
   "outputs": [],
   "source": [
    "#Inputs in the dataflow graph\n",
    "image_input = tf.placeholder(tf.float32,shape=(None,train_img.shape[0],train_img.shape[1],train_img.shape[2]))\n",
    "label_input = tf.placeholder(tf.int16,shape=(None,10))\n",
    "\n",
    "#The flow is just a series of convolution and pooling operations\n",
    "conv1 = tf.layers.conv2d(image_input, filters=16,kernel_size=5, activation=tf.nn.relu)\n",
    "conv1 = tf.layers.max_pooling2d(conv1, 2, 2)\n",
    "\n",
    "conv2 = tf.layers.conv2d(conv1, filters = 32, kernel_size=3, activation=tf.nn.relu)\n",
    "conv2 = tf.layers.max_pooling2d(conv2, 2, 2)\n",
    "\n",
    "conv3 = tf.layers.conv2d(conv2, filters = 64, kernel_size = 3, activation=tf.nn.relu)\n",
    "conv3 = tf.layers.max_pooling2d(conv3, 2, 2)\n",
    "\n",
    "flat = tf.layers.flatten(conv3)\n",
    "predicted_logits = tf.layers.dense(flat,10)\n",
    "\n",
    "error = tf.reduce_mean(tf.nn.softmax_cross_entropy_with_logits_v2(logits=predicted_logits,labels=label_input))\n",
    "\n",
    "#Define the optimizer; this is the thing that actually minimizez the error;\n",
    "#It looks at all the variables that contribute to the error and adjusts them \n",
    "optimizer = tf.train.GradientDescentOptimizer(learning_rate=1e-3).minimize(error)\n",
    "\n",
    "#Record the error for tensorboard\n",
    "#During training we run \"tensorboard --logdir=/path/to/logs\"\"\n",
    "\n",
    "error_summary = tf.summary.scalar('average_error', error) \n",
    "#We need to ru this in order to initialize the variables\n",
    "init = tf.global_variables_initializer()\n",
    "\n",
    "#At this point the blueprint is created. "
   ]
  },
  {
   "cell_type": "markdown",
   "metadata": {},
   "source": [
    "### Perform the training"
   ]
  },
  {
   "cell_type": "code",
   "execution_count": 9,
   "metadata": {},
   "outputs": [
    {
     "name": "stdout",
     "output_type": "stream",
     "text": [
      "Initial number of errors: 8997\n",
      "Number  of errors after epoch 0 is: 8935\n",
      "Number  of errors after epoch 1 is: 8114\n",
      "Number  of errors after epoch 2 is: 7596\n",
      "Number  of errors after epoch 3 is: 7084\n",
      "Number  of errors after epoch 4 is: 6817\n",
      "Number  of errors after epoch 5 is: 6488\n",
      "Number  of errors after epoch 6 is: 6395\n",
      "Number  of errors after epoch 7 is: 5965\n",
      "Number  of errors after epoch 8 is: 5984\n",
      "Number  of errors after epoch 9 is: 5899\n"
     ]
    }
   ],
   "source": [
    "#How many passes through the data should we do\n",
    "num_epochs = 10\n",
    "#How many images at once\n",
    "batch_size  = 32\n",
    "\n",
    "with tf.Session() as sess:\n",
    "    #Initialize the weights and bias\n",
    "    sess.run(init)\n",
    "    #Define the model saver. We will subsequently load the model in order to use it.\n",
    "    saver = tf.train.Saver()\n",
    "    \n",
    "    #Define the actual tensorboard logger\n",
    "    summary_writter = tf.summary.FileWriter('./mnist_training_summary',sess.graph)\n",
    "\n",
    "    #At each passing you want to feed the data in a different order\n",
    "    read_order = np.arange(len(train_img))\n",
    "    batch_idx = 0\n",
    "    \n",
    "    #Let's see what we get when we just use the random weights\n",
    "    logits,test_loss = sess.run([predicted_logits,error],feed_dict={\n",
    "                image_input:test_img,\n",
    "                label_input:test_label\n",
    "            })\n",
    "    print(\"Initial number of errors: {}\".format(np.count_nonzero(np.argmax(logits,axis=1)-np.argmax(test_label,axis=1))))\n",
    "    \n",
    "    for epoch in range(num_epochs):\n",
    "        \n",
    "        #Feed images, get predictions, apply gradients - all just by running \"optimizer\" operation\n",
    "        while batch_idx+batch_size<len(train_img): \n",
    "            _,summary = sess.run([optimizer,error_summary],feed_dict={\n",
    "                image_input:train_img[read_order[batch_idx:batch_idx+batch_size]],\n",
    "                label_input:train_label[read_order[batch_idx:batch_idx+batch_size]]\n",
    "            })\n",
    "            batch_idx+=batch_size\n",
    "            \n",
    "            #Log the error at the current training step in order to be visualised in tensorboard\n",
    "            training_step = len(train_img)/batch_size*epoch+batch_idx/batch_size\n",
    "            summary_writter.add_summary(summary,training_step) \n",
    "        \n",
    "        #Test the model after each epoch\n",
    "        logits,test_loss = sess.run([predicted_logits,error],feed_dict={\n",
    "                image_input:test_img,\n",
    "                label_input:test_label\n",
    "            })\n",
    "        \n",
    "        print(\"Number  of errors after epoch {} is: {}\".format(epoch,np.count_nonzero(np.argmax(logits,axis=1)-np.argmax(test_label,axis=1))))\n",
    "        \n",
    "        #Save the model after each epoch\n",
    "        saver.save(sess, './mnist_model',global_step=epoch)\n",
    "        \n",
    "        #Prepare for the next epoch; need to shuffle the data and reset the index\n",
    "        np.random.shuffle(read_order)\n",
    "        batch_idx=0\n",
    "        #For cooler ways to handle the data google \"tf.data\" "
   ]
  },
  {
   "cell_type": "markdown",
   "metadata": {},
   "source": [
    "### Restore the saved model"
   ]
  },
  {
   "cell_type": "code",
   "execution_count": 6,
   "metadata": {},
   "outputs": [
    {
     "name": "stdout",
     "output_type": "stream",
     "text": [
      "INFO:tensorflow:Restoring parameters from ./mnist_model-9\n",
      "Final number of errors is: 1147\n"
     ]
    }
   ],
   "source": [
    "with tf.Session() as sess:\n",
    "    saver = tf.train.import_meta_graph(\"./mnist_model-9.meta\")\n",
    "    saver.restore(sess,tf.train.latest_checkpoint('./'))\n",
    "    logits,test_loss = sess.run([predicted_logits,error],feed_dict={\n",
    "                image_input:test_img,\n",
    "                label_input:test_label\n",
    "            })\n",
    "        \n",
    "    print(\"Final number of errors is: {}\".format(np.count_nonzero(np.argmax(logits,axis=1)-np.argmax(test_label,axis=1))))\n",
    "        "
   ]
  },
  {
   "cell_type": "markdown",
   "metadata": {},
   "source": [
    "# Exercises\n",
    "\n",
    "##### Modify the above code to:\n",
    "1. Add one more dense layer at the end.\n",
    "2. Use more kernels.\n",
    "3. Replace maxpooling with better striding\n",
    "4. Add dropout\n",
    "5. Use batch normalization"
   ]
  },
  {
   "cell_type": "code",
   "execution_count": null,
   "metadata": {},
   "outputs": [],
   "source": []
  }
 ],
 "metadata": {
  "kernelspec": {
   "display_name": "Python [conda env:pytorch]",
   "language": "python",
   "name": "conda-env-pytorch-py"
  },
  "language_info": {
   "codemirror_mode": {
    "name": "ipython",
    "version": 3
   },
   "file_extension": ".py",
   "mimetype": "text/x-python",
   "name": "python",
   "nbconvert_exporter": "python",
   "pygments_lexer": "ipython3",
   "version": "3.6.6"
  }
 },
 "nbformat": 4,
 "nbformat_minor": 2
}
